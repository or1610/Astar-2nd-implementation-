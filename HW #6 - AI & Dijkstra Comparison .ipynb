{
 "cells": [
  {
   "cell_type": "markdown",
   "id": "bc2b115b",
   "metadata": {},
   "source": [
    "# Python Implementation of A* - A-Star \n",
    "## Or Attias HW part 6 - AI Course"
   ]
  },
  {
   "cell_type": "markdown",
   "id": "16ffa626",
   "metadata": {},
   "source": [
    "#### credit:  https://stackabuse.com/courses/graphs-in-python-theory-and-implementation/lessons/a-star-search-algorithm/  \n",
    "#### credit:  https://www.statology.org/manhattan-distance-python/"
   ]
  },
  {
   "cell_type": "markdown",
   "id": "48c81f67",
   "metadata": {},
   "source": [
    "## A* via Manhattan Distance & Euclidean Distance"
   ]
  },
  {
   "cell_type": "code",
   "execution_count": 1,
   "id": "aa8bad11",
   "metadata": {},
   "outputs": [],
   "source": [
    "from collections import deque\n",
    "\n",
    "class Graph:\n",
    "\n",
    "    def __init__(self, adjacency_list):\n",
    "        self.adjacency_list = adjacency_list\n",
    "\n",
    "    def get_neighbors(self, v):\n",
    "        return self.adjacency_list[v]\n",
    "\n",
    "    # heuristic function with equal values for all nodes\n",
    "    def h(self, n):\n",
    "        H = {\n",
    "            \n",
    "            '1': 8,\n",
    "            '2': 7,\n",
    "            '3': 0,\n",
    "            '4': 11, \n",
    "            '5': 5 ,  \n",
    "            '6': 1 , \n",
    "            '7': 0 , \n",
    "        }\n",
    "\n",
    "        return H[n]\n",
    "\n",
    "    def a_star_algorithm(self, start_node, stop_node):\n",
    "        # open_list is a list of nodes which have been visited, but who's neighbors\n",
    "        # haven't all been inspected, starts off with the start node\n",
    "        # closed_list is a list of nodes which have been visited\n",
    "        # and who's neighbors have been inspected\n",
    "        open_list = set([start_node])\n",
    "        closed_list = set([])\n",
    "\n",
    "        # g contains current distances from start_node to all other nodes\n",
    "        # the default value (if it's not found in the map) is +infinity\n",
    "        g = {}\n",
    "\n",
    "        g[start_node] = 0\n",
    "\n",
    "        # parents contains an adjacency map of all nodes\n",
    "        parents = {}\n",
    "        parents[start_node] = start_node\n",
    "\n",
    "        while len(open_list) > 0:\n",
    "            n = None\n",
    "\n",
    "            # find a node with the lowest value of f() - evaluation function\n",
    "            for v in open_list:\n",
    "                if n == None or g[v] + self.h(v) < g[n] + self.h(n):\n",
    "                    n = v;\n",
    "\n",
    "            if n == None:\n",
    "                print('Path does not exist!')\n",
    "                return None\n",
    "\n",
    "            # if the current node is the stop_node\n",
    "            # then we begin reconstructin the path from it to the start_node\n",
    "            if n == stop_node:\n",
    "                reconst_path = []\n",
    "\n",
    "                while parents[n] != n:\n",
    "                    reconst_path.append(n)\n",
    "                    n = parents[n]\n",
    "\n",
    "                reconst_path.append(start_node)\n",
    "\n",
    "                reconst_path.reverse()\n",
    "\n",
    "                print('Path found: {}'.format(reconst_path))\n",
    "                print('the cost of this path is:' +  \"\" + str(g[stop_node]) ) # addition \n",
    "                 \n",
    "                return reconst_path \n",
    "            \n",
    "\n",
    "            # for all neighbors of the current node do\n",
    "            for (m, weight) in self.get_neighbors(n):\n",
    "                # if the current node isn't in both open_list and closed_list\n",
    "                # add it to open_list and note n as it's parent\n",
    "                if m not in open_list and m not in closed_list:\n",
    "                    open_list.add(m)\n",
    "                    parents[m] = n\n",
    "                    g[m] = g[n] + weight\n",
    "\n",
    "                # otherwise, check if it's quicker to first visit n, then m\n",
    "                # and if it is, update parent data and g data\n",
    "                # and if the node was in the closed_list, move it to open_list\n",
    "                else:\n",
    "                    if g[m] > g[n] + weight:\n",
    "                        g[m] = g[n] + weight\n",
    "                        parents[m] = n\n",
    "\n",
    "                        if m in closed_list:\n",
    "                            closed_list.remove(m)\n",
    "                            open_list.add(m)\n",
    "\n",
    "            # remove n from the open_list, and add it to closed_list\n",
    "            # because all of his neighbors were inspected\n",
    "            open_list.remove(n)\n",
    "            closed_list.add(n)\n",
    "        \n",
    "        print('Path does not exist!')\n",
    "        return None"
   ]
  },
  {
   "cell_type": "code",
   "execution_count": 2,
   "id": "883c0f67",
   "metadata": {},
   "outputs": [
    {
     "data": {
      "text/html": [
       "<img src=\"hw6graph.jpg\" width=\"300\" height=\"300\"/>"
      ],
      "text/plain": [
       "<IPython.core.display.Image object>"
      ]
     },
     "execution_count": 2,
     "metadata": {},
     "output_type": "execute_result"
    }
   ],
   "source": [
    "# import image module\n",
    "from IPython.display import Image\n",
    "  \n",
    "# get the image\n",
    "Image(url = \"hw6graph.jpg\", width=300, height=300)"
   ]
  },
  {
   "cell_type": "code",
   "execution_count": 3,
   "id": "f7f07cd5",
   "metadata": {},
   "outputs": [],
   "source": [
    "adjacency_list = {\n",
    "    '1': [('2',2),   ('3', 11), ('4', 1) ],\n",
    "    '2': [('5', 3) ],\n",
    "    '3': [('2', 2),('7', 1),('6', 1)  ],\n",
    "    '4': [('3', 12),('6', 15)],\n",
    "    '5': [('3', 5),('7', 7) ],\n",
    "    '6': [('7',1) ],\n",
    "    '7': [ ] \n",
    "}\n",
    "graph1 = Graph(adjacency_list)"
   ]
  },
  {
   "cell_type": "code",
   "execution_count": 4,
   "id": "844a1c32",
   "metadata": {},
   "outputs": [
    {
     "name": "stdout",
     "output_type": "stream",
     "text": [
      "Path found: ['1', '2']\n",
      "the cost of this path is:2\n"
     ]
    },
    {
     "data": {
      "text/plain": [
       "['1', '2']"
      ]
     },
     "execution_count": 4,
     "metadata": {},
     "output_type": "execute_result"
    }
   ],
   "source": [
    "graph1.a_star_algorithm('1', '2') "
   ]
  },
  {
   "cell_type": "code",
   "execution_count": 5,
   "id": "b323d0f4",
   "metadata": {},
   "outputs": [
    {
     "name": "stdout",
     "output_type": "stream",
     "text": [
      "Path found: ['1', '2', '5', '3']\n",
      "the cost of this path is:10\n"
     ]
    },
    {
     "data": {
      "text/plain": [
       "['1', '2', '5', '3']"
      ]
     },
     "execution_count": 5,
     "metadata": {},
     "output_type": "execute_result"
    }
   ],
   "source": [
    "graph1.a_star_algorithm('1', '3') "
   ]
  },
  {
   "cell_type": "code",
   "execution_count": 6,
   "id": "103f3b70",
   "metadata": {},
   "outputs": [
    {
     "name": "stdout",
     "output_type": "stream",
     "text": [
      "Path found: ['1', '4']\n",
      "the cost of this path is:1\n"
     ]
    },
    {
     "data": {
      "text/plain": [
       "['1', '4']"
      ]
     },
     "execution_count": 6,
     "metadata": {},
     "output_type": "execute_result"
    }
   ],
   "source": [
    "graph1.a_star_algorithm('1', '4') "
   ]
  },
  {
   "cell_type": "code",
   "execution_count": 7,
   "id": "c6d34211",
   "metadata": {},
   "outputs": [
    {
     "name": "stdout",
     "output_type": "stream",
     "text": [
      "Path found: ['1', '2', '5']\n",
      "the cost of this path is:5\n"
     ]
    },
    {
     "data": {
      "text/plain": [
       "['1', '2', '5']"
      ]
     },
     "execution_count": 7,
     "metadata": {},
     "output_type": "execute_result"
    }
   ],
   "source": [
    "graph1.a_star_algorithm('1', '5') "
   ]
  },
  {
   "cell_type": "code",
   "execution_count": 8,
   "id": "25eedfc2",
   "metadata": {},
   "outputs": [
    {
     "name": "stdout",
     "output_type": "stream",
     "text": [
      "Path found: ['1', '2', '5', '3', '6']\n",
      "the cost of this path is:11\n"
     ]
    },
    {
     "data": {
      "text/plain": [
       "['1', '2', '5', '3', '6']"
      ]
     },
     "execution_count": 8,
     "metadata": {},
     "output_type": "execute_result"
    }
   ],
   "source": [
    "graph1.a_star_algorithm('1', '6') "
   ]
  },
  {
   "cell_type": "code",
   "execution_count": 9,
   "id": "ff98fcb2",
   "metadata": {},
   "outputs": [
    {
     "name": "stdout",
     "output_type": "stream",
     "text": [
      "Path found: ['1', '2', '5', '3', '7']\n",
      "the cost of this path is:11\n"
     ]
    },
    {
     "data": {
      "text/plain": [
       "['1', '2', '5', '3', '7']"
      ]
     },
     "execution_count": 9,
     "metadata": {},
     "output_type": "execute_result"
    }
   ],
   "source": [
    "graph1.a_star_algorithm('1', '7') "
   ]
  },
  {
   "cell_type": "markdown",
   "id": "859a742f",
   "metadata": {},
   "source": [
    "## A* via Manhattan distance "
   ]
  },
  {
   "cell_type": "code",
   "execution_count": 10,
   "id": "abec539d",
   "metadata": {},
   "outputs": [
    {
     "data": {
      "text/html": [
       "<img src=\"h6mangraph.jpg\" width=\"300\" height=\"300\"/>"
      ],
      "text/plain": [
       "<IPython.core.display.Image object>"
      ]
     },
     "execution_count": 10,
     "metadata": {},
     "output_type": "execute_result"
    }
   ],
   "source": [
    "# get the image\n",
    "Image(url = \"h6mangraph.jpg\", width=300, height=300)"
   ]
  },
  {
   "cell_type": "code",
   "execution_count": 11,
   "id": "d51696a0",
   "metadata": {},
   "outputs": [],
   "source": [
    "from collections import deque\n",
    "\n",
    "class GraphL: # letters intead of numbers of vertex \n",
    "\n",
    "    def __init__(self, adjacency_list):\n",
    "        self.adjacency_list = adjacency_list\n",
    "\n",
    "    def get_neighbors(self, v):\n",
    "        return self.adjacency_list[v]\n",
    "\n",
    "    # heuristic function with equal values for all nodes\n",
    "    def h(self, n):\n",
    "        H = {\n",
    "            \n",
    "            'a': 8, # 1 vertex \n",
    "            'b': 7, # 2 vertex \n",
    "            'c': 0, # 3 vertex  \n",
    "            'd': 11, # 4 vertex \n",
    "            'e': 5 ,  # 5 vertex \n",
    "            'f': 1 , # 6 vertex \n",
    "            'g': 0, # 7 vertex \n",
    "        }\n",
    "\n",
    "        return H[n]\n",
    "\n",
    "    def a_star_algorithm(self, start_node, stop_node):\n",
    "        # open_list is a list of nodes which have been visited, but who's neighbors\n",
    "        # haven't all been inspected, starts off with the start node\n",
    "        # closed_list is a list of nodes which have been visited\n",
    "        # and who's neighbors have been inspected\n",
    "        open_list = set([start_node])\n",
    "        closed_list = set([])\n",
    "\n",
    "        # g contains current distances from start_node to all other nodes\n",
    "        # the default value (if it's not found in the map) is +infinity\n",
    "        g = {}\n",
    "\n",
    "        g[start_node] = 0\n",
    "\n",
    "        # parents contains an adjacency map of all nodes\n",
    "        parents = {}\n",
    "        parents[start_node] = start_node\n",
    "\n",
    "        while len(open_list) > 0:\n",
    "            n = None\n",
    "\n",
    "            # find a node with the lowest value of f() - evaluation function\n",
    "            for v in open_list:\n",
    "                if n == None or g[v] + self.h(v) < g[n] + self.h(n):\n",
    "                    n = v;\n",
    "\n",
    "            if n == None:\n",
    "                print('Path does not exist!')\n",
    "                return None\n",
    "\n",
    "            # if the current node is the stop_node\n",
    "            # then we begin reconstructin the path from it to the start_node\n",
    "            if n == stop_node:\n",
    "                reconst_path = []\n",
    "\n",
    "                while parents[n] != n:\n",
    "                    reconst_path.append(n)\n",
    "                    n = parents[n]\n",
    "\n",
    "                reconst_path.append(start_node)\n",
    "\n",
    "                reconst_path.reverse()\n",
    "\n",
    "                print('Path found: {}'.format(reconst_path))\n",
    "                print('the cost of this path is:' +  \"\" + str(g[stop_node]) ) # addition \n",
    "                 \n",
    "                return reconst_path \n",
    "            \n",
    "\n",
    "            # for all neighbors of the current node do\n",
    "            for (m, weight) in self.get_neighbors(n):\n",
    "                # if the current node isn't in both open_list and closed_list\n",
    "                # add it to open_list and note n as it's parent\n",
    "                if m not in open_list and m not in closed_list:\n",
    "                    open_list.add(m)\n",
    "                    parents[m] = n\n",
    "                    g[m] = g[n] + weight\n",
    "\n",
    "                # otherwise, check if it's quicker to first visit n, then m\n",
    "                # and if it is, update parent data and g data\n",
    "                # and if the node was in the closed_list, move it to open_list\n",
    "                else:\n",
    "                    if g[m] > g[n] + weight:\n",
    "                        g[m] = g[n] + weight\n",
    "                        parents[m] = n\n",
    "\n",
    "                        if m in closed_list:\n",
    "                            closed_list.remove(m)\n",
    "                            open_list.add(m)\n",
    "\n",
    "            # remove n from the open_list, and add it to closed_list\n",
    "            # because all of his neighbors were inspected\n",
    "            open_list.remove(n)\n",
    "            closed_list.add(n)\n",
    "        \n",
    "        print('Path does not exist!')\n",
    "        return None"
   ]
  },
  {
   "cell_type": "code",
   "execution_count": 12,
   "id": "a67708b4",
   "metadata": {},
   "outputs": [
    {
     "data": {
      "text/html": [
       "<img src=\"h6mangraph.jpg\" width=\"300\" height=\"300\"/>"
      ],
      "text/plain": [
       "<IPython.core.display.Image object>"
      ]
     },
     "execution_count": 12,
     "metadata": {},
     "output_type": "execute_result"
    }
   ],
   "source": [
    "# get the image\n",
    "Image(url = \"h6mangraph.jpg\", width=300, height=300)"
   ]
  },
  {
   "cell_type": "code",
   "execution_count": 13,
   "id": "098b110e",
   "metadata": {},
   "outputs": [],
   "source": [
    "from math import sqrt\n",
    "\n",
    "#create function to calculate Manhattan distance \n",
    "def manhattan(a, b):\n",
    "    return sum(abs(val1-val2) for val1, val2 in zip(a,b))\n",
    " \n",
    "#define vectors\n",
    "a = [0,0]\n",
    "b = [11, 2]\n",
    "c = [11, 0]\n",
    "d = [ 11, -12 ]\n",
    "e = [ 12, 7 ]\n",
    "f = [ 12, -1 ]\n",
    "g = [ 12 , 0 ]\n",
    "#calculate Manhattan distance between vectors \n",
    "\n",
    "\n"
   ]
  },
  {
   "cell_type": "code",
   "execution_count": 14,
   "id": "e8efcd5b",
   "metadata": {},
   "outputs": [],
   "source": [
    "adjacency_list = {\n",
    "    'a': [('b',manhattan(a, b)),   ('c',manhattan(a, c)), ('d', manhattan(a, d)) ],\n",
    "    'b': [('e', manhattan(b, e)) ],\n",
    "    'c': [('b', manhattan(b, c)),('g', manhattan(c, g)),('f',manhattan(c, f))  ],\n",
    "    'd': [('c', manhattan(d, c)),('f', manhattan(d, f))],\n",
    "    'e': [('c', manhattan(e, c)),('g',manhattan(e, g)) ],\n",
    "    'f': [('g',manhattan(f, g)) ],\n",
    "    'g': [ ] \n",
    "}"
   ]
  },
  {
   "cell_type": "code",
   "execution_count": 15,
   "id": "cefde1e7",
   "metadata": {},
   "outputs": [],
   "source": [
    "graph1 = GraphL(adjacency_list)"
   ]
  },
  {
   "cell_type": "code",
   "execution_count": 16,
   "id": "ec492703",
   "metadata": {},
   "outputs": [
    {
     "name": "stdout",
     "output_type": "stream",
     "text": [
      "Path found: ['a', 'b']\n",
      "the cost of this path is:13\n"
     ]
    },
    {
     "data": {
      "text/plain": [
       "['a', 'b']"
      ]
     },
     "execution_count": 16,
     "metadata": {},
     "output_type": "execute_result"
    }
   ],
   "source": [
    "graph1.a_star_algorithm('a', 'b') "
   ]
  },
  {
   "cell_type": "code",
   "execution_count": 17,
   "id": "5ef3091b",
   "metadata": {},
   "outputs": [
    {
     "name": "stdout",
     "output_type": "stream",
     "text": [
      "Path found: ['a', 'c']\n",
      "the cost of this path is:11\n"
     ]
    },
    {
     "data": {
      "text/plain": [
       "['a', 'c']"
      ]
     },
     "execution_count": 17,
     "metadata": {},
     "output_type": "execute_result"
    }
   ],
   "source": [
    "graph1.a_star_algorithm('a', 'c') "
   ]
  },
  {
   "cell_type": "code",
   "execution_count": 18,
   "id": "337be51c",
   "metadata": {},
   "outputs": [
    {
     "name": "stdout",
     "output_type": "stream",
     "text": [
      "Path found: ['a', 'd']\n",
      "the cost of this path is:23\n"
     ]
    },
    {
     "data": {
      "text/plain": [
       "['a', 'd']"
      ]
     },
     "execution_count": 18,
     "metadata": {},
     "output_type": "execute_result"
    }
   ],
   "source": [
    "graph1.a_star_algorithm('a', 'd') "
   ]
  },
  {
   "cell_type": "code",
   "execution_count": 19,
   "id": "84bc2dd4",
   "metadata": {},
   "outputs": [
    {
     "name": "stdout",
     "output_type": "stream",
     "text": [
      "Path found: ['a', 'b', 'e']\n",
      "the cost of this path is:19\n"
     ]
    },
    {
     "data": {
      "text/plain": [
       "['a', 'b', 'e']"
      ]
     },
     "execution_count": 19,
     "metadata": {},
     "output_type": "execute_result"
    }
   ],
   "source": [
    "graph1.a_star_algorithm('a', 'e') "
   ]
  },
  {
   "cell_type": "code",
   "execution_count": 20,
   "id": "3989c884",
   "metadata": {},
   "outputs": [
    {
     "name": "stdout",
     "output_type": "stream",
     "text": [
      "Path found: ['a', 'c', 'f']\n",
      "the cost of this path is:13\n"
     ]
    },
    {
     "data": {
      "text/plain": [
       "['a', 'c', 'f']"
      ]
     },
     "execution_count": 20,
     "metadata": {},
     "output_type": "execute_result"
    }
   ],
   "source": [
    "graph1.a_star_algorithm('a', 'f') "
   ]
  },
  {
   "cell_type": "code",
   "execution_count": 21,
   "id": "6c7d9017",
   "metadata": {},
   "outputs": [
    {
     "name": "stdout",
     "output_type": "stream",
     "text": [
      "Path found: ['a', 'c', 'g']\n",
      "the cost of this path is:12\n"
     ]
    },
    {
     "data": {
      "text/plain": [
       "['a', 'c', 'g']"
      ]
     },
     "execution_count": 21,
     "metadata": {},
     "output_type": "execute_result"
    }
   ],
   "source": [
    "graph1.a_star_algorithm('a', 'g') "
   ]
  },
  {
   "cell_type": "markdown",
   "id": "58139c39",
   "metadata": {},
   "source": [
    "## Python Implementation of Dijkstra"
   ]
  },
  {
   "cell_type": "code",
   "execution_count": 22,
   "id": "8fe423e9",
   "metadata": {},
   "outputs": [],
   "source": [
    "# Python program for Dijkstra's single\n",
    "# source shortest path algorithm. The program is\n",
    "# for adjacency matrix representation of the graph\n",
    "class Graph():\n",
    " \n",
    "    def __init__(self, vertices):\n",
    "        self.V = vertices\n",
    "        self.graph = [[0 for column in range(vertices)]\n",
    "                      for row in range(vertices)]\n",
    " \n",
    "    def printSolution(self, dist):\n",
    "        print(\"Vertex \\t Distance from Source\")\n",
    "        for node in range(self.V):\n",
    "            print(node+1, \"\\t\\t\", dist[node])\n",
    " \n",
    "    # A utility function to find the vertex with\n",
    "    # minimum distance value, from the set of vertices\n",
    "    # not yet included in shortest path tree\n",
    "    def minDistance(self, dist, sptSet):\n",
    " \n",
    "        # Initialize minimum distance for next node\n",
    "        min = 1e7\n",
    " \n",
    "        # Search not nearest vertex not in the\n",
    "        # shortest path tree\n",
    "        for v in range(self.V):\n",
    "            if dist[v] < min and sptSet[v] == False:\n",
    "                min = dist[v]\n",
    "                min_index = v\n",
    " \n",
    "        return min_index\n",
    " \n",
    "    # Function that implements Dijkstra's single source\n",
    "    # shortest path algorithm for a graph represented\n",
    "    # using adjacency matrix representation\n",
    "    def dijkstra(self, src):\n",
    " \n",
    "        dist = [1e7] * self.V\n",
    "        dist[src] = 0\n",
    "        sptSet = [False] * self.V\n",
    " \n",
    "        for cout in range(self.V):\n",
    " \n",
    "            # Pick the minimum distance vertex from\n",
    "            # the set of vertices not yet processed.\n",
    "            # u is always equal to src in first iteration\n",
    "            u = self.minDistance(dist, sptSet)\n",
    " \n",
    "            # Put the minimum distance vertex in the\n",
    "            # shortest path tree\n",
    "            sptSet[u] = True\n",
    " \n",
    "            # Update dist value of the adjacent vertices\n",
    "            # of the picked vertex only if the current\n",
    "            # distance is greater than new distance and\n",
    "            # the vertex in not in the shortest path tree\n",
    "            for v in range(self.V):\n",
    "                if (self.graph[u][v] > 0 and\n",
    "                   sptSet[v] == False and\n",
    "                   dist[v] > dist[u] + self.graph[u][v]):\n",
    "                    dist[v] = dist[u] + self.graph[u][v]\n",
    " \n",
    "        self.printSolution(dist)\n",
    " \n",
    " \n",
    "# This code is contributed by Divyanshu Mehta"
   ]
  },
  {
   "cell_type": "code",
   "execution_count": 23,
   "id": "f39a322c",
   "metadata": {},
   "outputs": [
    {
     "data": {
      "text/html": [
       "<img src=\"hw6graph.jpg\" width=\"300\" height=\"300\"/>"
      ],
      "text/plain": [
       "<IPython.core.display.Image object>"
      ]
     },
     "execution_count": 23,
     "metadata": {},
     "output_type": "execute_result"
    }
   ],
   "source": [
    "# import image module\n",
    "from IPython.display import Image\n",
    "  \n",
    "# get the image\n",
    "Image(url = \"hw6graph.jpg\", width=300, height=300)"
   ]
  },
  {
   "cell_type": "code",
   "execution_count": 24,
   "id": "d2e38c27",
   "metadata": {},
   "outputs": [
    {
     "name": "stdout",
     "output_type": "stream",
     "text": [
      "Vertex \t Distance from Source\n",
      "1 \t\t 0\n",
      "2 \t\t 2\n",
      "3 \t\t 10\n",
      "4 \t\t 1\n",
      "5 \t\t 5\n",
      "6 \t\t 11\n",
      "7 \t\t 11\n"
     ]
    }
   ],
   "source": [
    "g = Graph(7)\n",
    "g.graph = [\n",
    "   #   V #    1  2  3   4  5  6  7     \n",
    "             [0, 2, 11, 1, 0, 0, 0 ], # 1\n",
    "             [0, 0, 0,  0, 3, 0, 0 ], # 2\n",
    "             [0, 2, 0,  0, 0, 1, 1 ], # 3\n",
    "             [0, 0, 12, 0, 0, 15, 0 ], # 4\n",
    "             [0, 0, 5,  0, 0, 0, 7 ], # 5\n",
    "             [0, 0, 0,  0, 0, 0, 1], # 6\n",
    "             [0, 0, 0,  0, 0, 0, 0 ]  # 7 \n",
    "            ]\n",
    "g.dijkstra(0)"
   ]
  }
 ],
 "metadata": {
  "kernelspec": {
   "display_name": "Python 3 (ipykernel)",
   "language": "python",
   "name": "python3"
  },
  "language_info": {
   "codemirror_mode": {
    "name": "ipython",
    "version": 3
   },
   "file_extension": ".py",
   "mimetype": "text/x-python",
   "name": "python",
   "nbconvert_exporter": "python",
   "pygments_lexer": "ipython3",
   "version": "3.9.12"
  }
 },
 "nbformat": 4,
 "nbformat_minor": 5
}
